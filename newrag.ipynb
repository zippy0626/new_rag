{
 "cells": [
  {
   "cell_type": "code",
   "execution_count": 1,
   "metadata": {},
   "outputs": [],
   "source": [
    "import os\n",
    "\n",
    "from IPython.display import Markdown\n",
    "from langchain_community.document_loaders import TextLoader\n",
    "from langchain_community.document_loaders import PyPDFLoader\n",
    "from langchain_community.document_loaders import DirectoryLoader\n",
    "from langchain.text_splitter import RecursiveCharacterTextSplitter\n",
    "from langchain_openai import OpenAIEmbeddings #langchain_openai.OpenAIEmbeddings\n",
    "from langchain_community.vectorstores import FAISS\n",
    "from dotenv import load_dotenv\n",
    "\n",
    "from langchain_core.output_parsers import StrOutputParser\n",
    "from langchain_core.prompts import ChatPromptTemplate\n",
    "from langchain_core.runnables import RunnableParallel, RunnablePassthrough\n",
    "from langchain.chat_models import ChatOpenAI ## from langchain_openai import ChatOpenAI\n",
    "\n",
    "# Load environment variables from .env file\n",
    "load_dotenv()\n",
    "\n",
    "# Access API keys from environment variables\n",
    "my_api_key = os.getenv(\"OPEN_AI\")\n",
    "\n",
    "## created 2/7/23 "
   ]
  },
  {
   "cell_type": "code",
   "execution_count": 3,
   "metadata": {},
   "outputs": [],
   "source": [
    "## change to your own save path\n",
    "def save_db(db_name, input_path, save_path:str=r\"C:\\Users\\zippy\\Desktop\\Python\\Retrieval Augmented Generation\\VectorStores\\\\\", chunk_size:int=1250):\n",
    "    embeddings = OpenAIEmbeddings(api_key=my_api_key)\n",
    "\n",
    "    ## checks for duplicate\n",
    "    filenames = os.listdir(save_path)\n",
    "    for name in filenames:\n",
    "        if name == (db_name + \".faiss\"):\n",
    "            raise Exception(\"Name of database already exists in the save directory\")\n",
    "\n",
    "    ## checks file type\n",
    "    if \".txt\" in input_path:\n",
    "        loader = TextLoader(input_path)\n",
    "    elif \".pdf\" in input_path:\n",
    "        loader = PyPDFLoader(input_path)\n",
    "    else:\n",
    "        raise Exception(\"Invalid file type, only accepts .txt or .pdf files\")\n",
    "    \n",
    "    documents = loader.load()\n",
    "\n",
    "    text_splitter = RecursiveCharacterTextSplitter(chunk_size=chunk_size, chunk_overlap=0)\n",
    "    split_documents = text_splitter.split_documents(documents)\n",
    "    \n",
    "    db = FAISS.from_documents(split_documents, embeddings)\n",
    "    db.save_local(save_path, index_name=db_name)\n",
    "\n",
    "    return print(f\"Saved database at {save_path}\")"
   ]
  },
  {
   "cell_type": "code",
   "execution_count": 4,
   "metadata": {},
   "outputs": [],
   "source": [
    "## change save path here too, they both have to be the same\n",
    "class dbManager:\n",
    "\n",
    "    def __init__(self, save_path:str=r\"C:\\Users\\zippy\\Desktop\\Python\\Retrieval Augmented Generation\\VectorStores\\\\\"):\n",
    "        \"\"\"\n",
    "        \n",
    "\n",
    "        \"\"\"\n",
    "        self.save_path = save_path\n",
    "        self.embeddings = OpenAIEmbeddings(api_key=my_api_key)\n",
    "        self.template = \"\"\"\n",
    "        You are a very helpful assistant that answers questions based only on the following context: {context}\n",
    "\n",
    "        Question: {question}\n",
    "\n",
    "        You tend to explain concepts in a simple way that is easily understandable.\n",
    "\n",
    "        Please do not use outside information, only use the information found in the context.\n",
    "        \"\"\"\n",
    "\n",
    "    def load(self, db_name:str):\n",
    "        db_name = db_name  \n",
    "\n",
    "        if os.path.exists(self.save_path + db_name + \".faiss\"):\n",
    "            db = FAISS.load_local(self.save_path, self.embeddings, index_name=db_name)\n",
    "            return db\n",
    "        else:\n",
    "            raise FileNotFoundError(f\"Vector DB at {self.save_path} does not exist.\")\n",
    "\n",
    "    def test(self, query, db, k_docs=4):\n",
    "        pass\n",
    "\n",
    "    def ask(self, query, db, k_docs=4):\n",
    "        prompt = ChatPromptTemplate.from_template(self.template)\n",
    "\n",
    "        model = ChatOpenAI(model=\"gpt-3.5-turbo-0125\", openai_api_key=my_api_key, temperature=0.7) #model=\"gpt-3.5-turbo-0125\", \n",
    "\n",
    "        output_parser = StrOutputParser()\n",
    "\n",
    "        retriever = db.as_retriever(search_kwargs={'k': k_docs})\n",
    "\n",
    "        setup_and_retrieval = RunnableParallel({\"context\": retriever, \"question\": RunnablePassthrough()}) \n",
    "\n",
    "        chain = setup_and_retrieval | prompt | model | output_parser\n",
    "\n",
    "        invokemsg = chain.invoke(query)\n",
    "\n",
    "        return Markdown(invokemsg)"
   ]
  },
  {
   "cell_type": "code",
   "execution_count": 5,
   "metadata": {},
   "outputs": [],
   "source": [
    "manager = dbManager()"
   ]
  },
  {
   "cell_type": "code",
   "execution_count": 6,
   "metadata": {},
   "outputs": [],
   "source": [
    "test = manager.load(\"test\")\n",
    "calculus = manager.load(\"calculus\")\n",
    "env_slides = manager.load(\"envslides\")\n",
    "powerlifting = manager.load(\"powerlifting\")\n",
    "fivethreeone_info = manager.load(\"531info\")\n",
    "bio44_47 = manager.load(\"c44-c47_bio\")\n",
    "bio11_20 = manager.load(\"c11-c20_bio\")"
   ]
  },
  {
   "cell_type": "code",
   "execution_count": 7,
   "metadata": {},
   "outputs": [
    {
     "name": "stderr",
     "output_type": "stream",
     "text": [
      "c:\\Users\\zippy\\anaconda3\\envs\\RAG\\Lib\\site-packages\\langchain_core\\_api\\deprecation.py:117: LangChainDeprecationWarning: The class `langchain_community.chat_models.openai.ChatOpenAI` was deprecated in langchain-community 0.0.10 and will be removed in 0.2.0. An updated version of the class exists in the langchain-openai package and should be used instead. To use it run `pip install -U langchain-openai` and import as `from langchain_openai import ChatOpenAI`.\n",
      "  warn_deprecated(\n"
     ]
    },
    {
     "data": {
      "text/markdown": [
       "Based on the information provided in the context, with a relatively longer torso compared to your femur length, you would fall under the category of \"Short back\" and \"Long legs\" in the table provided. Therefore, the recommended squat stance for you would be with your feet positioned narrow/medium apart and your stance medium/narrow. This stance will help optimize your squatting form and leverage your genetic characteristics for better performance."
      ],
      "text/plain": [
       "<IPython.core.display.Markdown object>"
      ]
     },
     "execution_count": 7,
     "metadata": {},
     "output_type": "execute_result"
    }
   ],
   "source": [
    "manager.ask(\"\"\"\n",
    "I have a 22.5 inch torso minus head length, and 17.5 inch femurs. My upper body is 35 inches, and my legs are also 35 inches. My torso without head is relatively longer than my femur length. What is the appropriate squat stance I should take?\n",
    "\"\"\", powerlifting)"
   ]
  },
  {
   "cell_type": "code",
   "execution_count": 8,
   "metadata": {},
   "outputs": [
    {
     "data": {
      "text/markdown": [
       "Based on the information provided in the context, with a torso length of 22.5 inches and leg length of 35 inches, you would fall under the category of \"Short back\" and \"Medium legs\" based on the table provided for genetic characteristics for squat stance.\n",
       "\n",
       "For someone with a short back and medium legs, the recommended squat stance would be medium/wide for both feet, with the toes pointing out slightly.\n",
       "\n",
       "Therefore, for your body proportions, the appropriate squat stance would be medium/wide with toes pointing out slightly."
      ],
      "text/plain": [
       "<IPython.core.display.Markdown object>"
      ]
     },
     "execution_count": 8,
     "metadata": {},
     "output_type": "execute_result"
    }
   ],
   "source": [
    "manager.ask(\"\"\"\n",
    "I have a 22.5 inch torso minus head length (35in with head.), and 35 inch legs. What is the appropriate squat stance I should take?\n",
    "\"\"\", powerlifting)"
   ]
  }
 ],
 "metadata": {
  "kernelspec": {
   "display_name": "RAG",
   "language": "python",
   "name": "python3"
  },
  "language_info": {
   "codemirror_mode": {
    "name": "ipython",
    "version": 3
   },
   "file_extension": ".py",
   "mimetype": "text/x-python",
   "name": "python",
   "nbconvert_exporter": "python",
   "pygments_lexer": "ipython3",
   "version": "3.11.7"
  }
 },
 "nbformat": 4,
 "nbformat_minor": 2
}
